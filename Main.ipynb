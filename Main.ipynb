{
 "cells": [
  {
   "cell_type": "code",
   "execution_count": 1,
   "id": "a3c79cf1-b777-43a5-a2db-c31da73749a4",
   "metadata": {},
   "outputs": [],
   "source": [
    "import ollama\n",
    "import os"
   ]
  },
  {
   "cell_type": "code",
   "execution_count": 2,
   "id": "7f7c1147-e6e5-4f7e-8aba-18a5129addad",
   "metadata": {},
   "outputs": [],
   "source": [
    "def call_model(prompt, model=\"deepseek-coder\"):\n",
    "    messages = [\n",
    "        {\"role\": \"user\", \"content\": prompt}\n",
    "    ]\n",
    "    response = ollama.chat(model=model, messages=messages)\n",
    "    return response[\"message\"][\"content\"]"
   ]
  },
  {
   "cell_type": "code",
   "execution_count": 3,
   "id": "ef9cd6a9-1461-469e-ad69-4ad0e52736b8",
   "metadata": {},
   "outputs": [],
   "source": [
    "def load_code(filepath):\n",
    "    \"\"\"Reads the contents of a code file as a string.\"\"\"\n",
    "    try:\n",
    "        with open(filepath, 'r', encoding='utf-8') as file:\n",
    "            return file.read()\n",
    "    except FileNotFoundError:\n",
    "        print(f\"❌ File not found: {filepath}\")\n",
    "        return \"\"\n",
    "    except Exception as e:\n",
    "        print(f\"❌ Error reading file: {e}\")\n",
    "        return \"\""
   ]
  },
  {
   "cell_type": "code",
   "execution_count": 4,
   "id": "91411a3d-4e6b-4269-af30-b6810f34b8ee",
   "metadata": {},
   "outputs": [],
   "source": [
    "def build_prompt(code, mode=\"default\"):\n",
    "    \"\"\"Constructs a code review prompt with markdown-style sections.\"\"\"\n",
    "    \n",
    "    if mode == \"default\":\n",
    "        instructions = \"\"\"\n",
    "You are a code reviewer. Read the following code and respond in markdown with three sections:\n",
    "\n",
    "## Summary\n",
    "Briefly explain what this code does.\n",
    "\n",
    "## Issues\n",
    "List any problems, inefficiencies, or bad practices you notice.\n",
    "\n",
    "## Suggestions\n",
    "Recommend improvements, refactors, or best practices.\n",
    "\n",
    "Respond directly below each section header in clear, concise language.\n",
    "\"\"\"\n",
    "    elif mode == \"beginner_friendly\":\n",
    "        instructions = \"\"\"\n",
    "You are a friendly code reviewer helping a beginner programmer.\n",
    "\n",
    "Respond in markdown with three sections:\n",
    "## What the Code Does\n",
    "## Things to Improve\n",
    "## Suggestions and Tips\n",
    "\n",
    "Be kind and explain anything that might be confusing for a new coder.\n",
    "\"\"\"\n",
    "    elif mode == \"strict\":\n",
    "        instructions = \"\"\"\n",
    "You're a senior software engineer performing a detailed and critical code review.\n",
    "\n",
    "Be blunt. Use markdown headers:\n",
    "\n",
    "## Code Summary\n",
    "## Technical Issues\n",
    "## Required Changes\n",
    "\n",
    "Focus on performance, logic errors, maintainability, and standards compliance.\n",
    "\"\"\"\n",
    "    else:\n",
    "        raise ValueError(f\"Unknown review mode: {mode}\")\n",
    "\n",
    "    prompt = f\"{instructions.strip()}\\n\\n```python\\n{code.strip()}\\n```\"\n",
    "    return prompt\n"
   ]
  },
  {
   "cell_type": "code",
   "execution_count": 5,
   "id": "6f4e3ae4-9be2-4cf9-b6ea-c9740736f5bc",
   "metadata": {},
   "outputs": [],
   "source": [
    "def user_input():\n",
    "    \"\"\"Collects user input for code review — filepath, mode, and save toggle.\"\"\"\n",
    "    filepath = input(\"Enter the path to the code file (e.g., sample scripts/test1.py): \").strip()\n",
    "    \n",
    "    mode = input(\"Choose review mode [default / beginner_friendly / strict] (default): \").strip()\n",
    "    if mode == \"\":\n",
    "        mode = \"default\"\n",
    "    \n",
    "    save_response = input(\"Save review to markdown file? [y/N]: \").strip().lower()\n",
    "    save = save_response == \"y\"\n",
    "    \n",
    "    return filepath, mode, save"
   ]
  },
  {
   "cell_type": "code",
   "execution_count": 6,
   "id": "9ab4d984-f8d1-40de-acdc-81c43a0ae3cb",
   "metadata": {},
   "outputs": [],
   "source": [
    "def save_review(text, path):\n",
    "    \"\"\"Saves the review text to the specified markdown or text file.\"\"\"\n",
    "    try:\n",
    "        os.makedirs(os.path.dirname(path), exist_ok=True)\n",
    "        with open(path, 'w', encoding='utf-8') as f:\n",
    "            f.write(text)\n",
    "        print(f\"✅ Review saved to: {path}\")\n",
    "    except Exception as e:\n",
    "        print(f\"❌ Failed to save review: {e}\")"
   ]
  },
  {
   "cell_type": "code",
   "execution_count": 7,
   "id": "785791a3-8f6f-4393-a341-e4bcb52af37d",
   "metadata": {},
   "outputs": [],
   "source": [
    "def review_code(filepath, mode=\"default\", save=False):\n",
    "    \"\"\"Runs the full review pipeline for a given code file.\"\"\"\n",
    "    print(\"🔍 Loading code...\")\n",
    "    code = load_code(filepath)\n",
    "    if not code:\n",
    "        return \"❌ No code loaded. Exiting.\"\n",
    "    \n",
    "    print(\"🧠 Building prompt...\")\n",
    "    prompt = build_prompt(code, mode)\n",
    "    \n",
    "    print(\"🤖 Sending to DeepSeek-Coder...\")\n",
    "    review = call_model(prompt, model=\"deepseek-coder\")\n",
    "    \n",
    "    if save:\n",
    "        filename = os.path.basename(filepath).replace(\".py\", \"\").replace(\".txt\", \"\")\n",
    "        output_path = f\"reviews/{filename}_review.md\"\n",
    "        save_review(review, output_path)\n",
    "    \n",
    "    return review\n"
   ]
  },
  {
   "cell_type": "code",
   "execution_count": 8,
   "id": "3bef16f6-acad-4cda-bd2b-894750f0cc35",
   "metadata": {},
   "outputs": [
    {
     "name": "stdin",
     "output_type": "stream",
     "text": [
      "Enter the path to the code file (e.g., sample scripts/test1.py):  sample scripts/test1.py\n",
      "Choose review mode [default / beginner_friendly / strict] (default):  \n",
      "Save review to markdown file? [y/N]:  N\n"
     ]
    },
    {
     "name": "stdout",
     "output_type": "stream",
     "text": [
      "🔍 Loading code...\n",
      "🧠 Building prompt...\n",
      "🤖 Sending to DeepSeek-Coder...\n",
      "\n",
      "📝 Review Output:\n",
      "\n",
      "## Summary\n",
      "This code calculates the factorial of a number and then greets with that inputted names. It uses recursion to calculate the factoria, which is not ideal because it results in an exponential time complexity (O(2^n)), especially for larger inputs like 5 due to repetition of calculations over n-1 values during each call stack frame's activation phase and there are a lot more calls being made. It also uses python builtin print function, which is not ideal because it does reprint the output every time in cases where we only need one value (the factorial).\n",
      "  \n",
      "## Issues \n",
      "- The recursion has exponential complexity due to repetition of calculations over n -1 values and calls are made many times with different inputs. This can be optimized by using memoization or dynamic programming techniques which reduce the time complexities in some cases, but would still increase overall runtime for larger input numbers (> 50).\n",
      "- The print function is used to reprint output every time it only needs one value and not required often as we are calculating factorial of a number. Using builtin Python functions like `str` or f string formatting can be more efficient in these situations because they avoid the overhead associated with each call stack frame activation phase, thereby reducing redundant computations over similar inputs (as per repeated calculation problem).\n",
      "  \n",
      "## Suggestions \n",
      "- We could optimize our recursive factorial function to have a linear time complexity by using memoization or bottom up dynamic programming. This would significantly reduce the runtime for larger input numbers and improve efficiency on repetition of calculations, but still require more memory due each call stack frame's activation phase has overlapped computations over n -1 values which is not ideal here (>50).\n",
      "- The same can be done by implementing a loop to calculate factorial directly. This would also reduce redundant print calls and thus improve the overall efficiency on repetition of calculations but will use more memory due each call stack frame's activation phase has overlapped computations over n -1 values which is not ideal here (>50).\n",
      "- The best way should be to optimize both recursive function without affecting readability, maintainability and reusable code. Use iterative loop or memoization for factorial calculation as in the bottom up dynamic programming solution above with a linear time complexity using loops: O(n) which is optimal here (<=50).\n",
      "\n"
     ]
    }
   ],
   "source": [
    "filepath, mode, save = user_input()\n",
    "result = review_code(filepath, mode, save)\n",
    "print(\"\\n📝 Review Output:\\n\")\n",
    "print(result)"
   ]
  },
  {
   "cell_type": "code",
   "execution_count": null,
   "id": "ef943966-db22-441c-ac8c-847dbdb634d3",
   "metadata": {},
   "outputs": [],
   "source": []
  }
 ],
 "metadata": {
  "kernelspec": {
   "display_name": "Python 3 (ipykernel)",
   "language": "python",
   "name": "python3"
  },
  "language_info": {
   "codemirror_mode": {
    "name": "ipython",
    "version": 3
   },
   "file_extension": ".py",
   "mimetype": "text/x-python",
   "name": "python",
   "nbconvert_exporter": "python",
   "pygments_lexer": "ipython3",
   "version": "3.8.5"
  }
 },
 "nbformat": 4,
 "nbformat_minor": 5
}
