{
 "cells": [
  {
   "cell_type": "code",
   "execution_count": null,
   "id": "a3c79cf1-b777-43a5-a2db-c31da73749a4",
   "metadata": {},
   "outputs": [],
   "source": []
  }
 ],
 "metadata": {
  "kernelspec": {
   "display_name": "",
   "name": ""
  },
  "language_info": {
   "name": ""
  }
 },
 "nbformat": 4,
 "nbformat_minor": 5
}
