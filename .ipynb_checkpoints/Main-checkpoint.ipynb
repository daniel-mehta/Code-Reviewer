{
 "cells": [
  {
   "cell_type": "code",
   "execution_count": 2,
   "id": "a3c79cf1-b777-43a5-a2db-c31da73749a4",
   "metadata": {},
   "outputs": [],
   "source": [
    "import ollama"
   ]
  },
  {
   "cell_type": "code",
   "execution_count": 3,
   "id": "7f7c1147-e6e5-4f7e-8aba-18a5129addad",
   "metadata": {},
   "outputs": [],
   "source": [
    "def call_model(prompt, model=\"deepseek-coder\"):\n",
    "    messages = [\n",
    "        {\"role\": \"user\", \"content\": prompt}\n",
    "    ]\n",
    "    response = ollama.chat(model=model, messages=messages)\n",
    "    return response[\"message\"][\"content\"]"
   ]
  },
  {
   "cell_type": "code",
   "execution_count": null,
   "id": "14163bc1-2799-4e05-9c68-663f8a29de7a",
   "metadata": {},
   "outputs": [],
   "source": [
    "print(call_model(\"how to write a function in java\"))"
   ]
  },
  {
   "cell_type": "code",
   "execution_count": 5,
   "id": "ef9cd6a9-1461-469e-ad69-4ad0e52736b8",
   "metadata": {},
   "outputs": [],
   "source": [
    "def load_code(filepath):\n",
    "    \"\"\"Reads the contents of a code file as a string.\"\"\"\n",
    "    try:\n",
    "        with open(filepath, 'r', encoding='utf-8') as file:\n",
    "            return file.read()\n",
    "    except FileNotFoundError:\n",
    "        print(f\"❌ File not found: {filepath}\")\n",
    "        return \"\"\n",
    "    except Exception as e:\n",
    "        print(f\"❌ Error reading file: {e}\")\n",
    "        return \"\""
   ]
  },
  {
   "cell_type": "code",
   "execution_count": null,
   "id": "91411a3d-4e6b-4269-af30-b6810f34b8ee",
   "metadata": {},
   "outputs": [],
   "source": [
    "def build_prompt(code, mode=\"default\"):\n",
    "    \"\"\"Constructs a code review prompt with markdown-style sections.\"\"\"\n",
    "    \n",
    "    if mode == \"default\":\n",
    "        instructions = \"\"\"\n",
    "You are a code reviewer. Read the following code and respond in markdown with three sections:\n",
    "\n",
    "## Summary\n",
    "Briefly explain what this code does.\n",
    "\n",
    "## Issues\n",
    "List any problems, inefficiencies, or bad practices you notice.\n",
    "\n",
    "## Suggestions\n",
    "Recommend improvements, refactors, or best practices.\n",
    "\n",
    "Respond directly below each section header in clear, concise language.\n",
    "\"\"\"\n",
    "    elif mode == \"beginner_friendly\":\n",
    "        instructions = \"\"\"\n",
    "You are a friendly code reviewer helping a beginner programmer.\n",
    "\n",
    "Respond in markdown with three sections:\n",
    "## What the Code Does\n",
    "## Things to Improve\n",
    "## Suggestions and Tips\n",
    "\n",
    "Be kind and explain anything that might be confusing for a new coder.\n",
    "\"\"\"\n",
    "    elif mode == \"strict\":\n",
    "        instructions = \"\"\"\n",
    "You're a senior software engineer performing a detailed and critical code review.\n",
    "\n",
    "Be blunt. Use markdown headers:\n",
    "\n",
    "## Code Summary\n",
    "## Technical Issues\n",
    "## Required Changes\n",
    "\n",
    "Focus on performance, logic errors, maintainability, and standards compliance.\n",
    "\"\"\"\n",
    "    else:\n",
    "        raise ValueError(f\"Unknown review mode: {mode}\")\n",
    "\n",
    "    prompt = f\"{instructions.strip()}\\n\\n```python\\n{code.strip()}\\n```\"\n",
    "    return prompt\n"
   ]
  },
  {
   "cell_type": "code",
   "execution_count": null,
   "id": "6f4e3ae4-9be2-4cf9-b6ea-c9740736f5bc",
   "metadata": {},
   "outputs": [],
   "source": [
    "def user_input():\n",
    "    \"\"\"Collects user input for code review — filepath, mode, and save toggle.\"\"\"\n",
    "    filepath = input(\"Enter the path to the code file (e.g., sample_scripts/test1.py): \").strip()\n",
    "    \n",
    "    mode = input(\"Choose review mode [default / beginner_friendly / strict] (default): \").strip()\n",
    "    if mode == \"\":\n",
    "        mode = \"default\"\n",
    "    \n",
    "    save_response = input(\"Save review to markdown file? [y/N]: \").strip().lower()\n",
    "    save = save_response == \"y\"\n",
    "    \n",
    "    return filepath, mode, save"
   ]
  },
  {
   "cell_type": "code",
   "execution_count": null,
   "id": "9ab4d984-f8d1-40de-acdc-81c43a0ae3cb",
   "metadata": {},
   "outputs": [],
   "source": []
  }
 ],
 "metadata": {
  "kernelspec": {
   "display_name": "Python 3 (ipykernel)",
   "language": "python",
   "name": "python3"
  },
  "language_info": {
   "codemirror_mode": {
    "name": "ipython",
    "version": 3
   },
   "file_extension": ".py",
   "mimetype": "text/x-python",
   "name": "python",
   "nbconvert_exporter": "python",
   "pygments_lexer": "ipython3",
   "version": "3.8.5"
  }
 },
 "nbformat": 4,
 "nbformat_minor": 5
}
