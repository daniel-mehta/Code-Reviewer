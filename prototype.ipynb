{
 "cells": [
  {
   "cell_type": "code",
   "execution_count": 1,
   "id": "a3c79cf1-b777-43a5-a2db-c31da73749a4",
   "metadata": {},
   "outputs": [],
   "source": [
    "import ollama\n",
    "import os"
   ]
  },
  {
   "cell_type": "code",
   "execution_count": 2,
   "id": "7f7c1147-e6e5-4f7e-8aba-18a5129addad",
   "metadata": {},
   "outputs": [],
   "source": [
    "def call_model(prompt, model=\"deepseek-coder\"):\n",
    "    messages = [\n",
    "        {\"role\": \"user\", \"content\": prompt}\n",
    "    ]\n",
    "    response = ollama.chat(model=model, messages=messages)\n",
    "    return response[\"message\"][\"content\"]"
   ]
  },
  {
   "cell_type": "code",
   "execution_count": 3,
   "id": "ef9cd6a9-1461-469e-ad69-4ad0e52736b8",
   "metadata": {},
   "outputs": [],
   "source": [
    "def load_code(filepath):\n",
    "    \"\"\"Reads the contents of a code file as a string.\"\"\"\n",
    "    try:\n",
    "        with open(filepath, 'r', encoding='utf-8') as file:\n",
    "            return file.read()\n",
    "    except FileNotFoundError:\n",
    "        print(f\"❌ File not found: {filepath}\")\n",
    "        return \"\"\n",
    "    except Exception as e:\n",
    "        print(f\"❌ Error reading file: {e}\")\n",
    "        return \"\""
   ]
  },
  {
   "cell_type": "code",
   "execution_count": 4,
   "id": "91411a3d-4e6b-4269-af30-b6810f34b8ee",
   "metadata": {},
   "outputs": [],
   "source": [
    "def build_prompt(code, mode=\"default\"):\n",
    "    \"\"\"Constructs a code review prompt with markdown-style sections.\"\"\"\n",
    "    \n",
    "    if mode == \"default\":\n",
    "        instructions = \"\"\"\n",
    "You are a code reviewer. Read the following code and respond in markdown with three sections:\n",
    "\n",
    "## Summary\n",
    "Briefly explain what this code does.\n",
    "\n",
    "## Issues\n",
    "List any problems, inefficiencies, or bad practices you notice.\n",
    "\n",
    "## Suggestions\n",
    "Recommend improvements, refactors, or best practices.\n",
    "\n",
    "Respond directly below each section header in clear, concise language.\n",
    "\"\"\"\n",
    "    elif mode == \"beginner_friendly\":\n",
    "        instructions = \"\"\"\n",
    "You are a friendly code reviewer helping a beginner programmer.\n",
    "\n",
    "Respond in markdown with three sections:\n",
    "## What the Code Does\n",
    "## Things to Improve\n",
    "## Suggestions and Tips\n",
    "\n",
    "Be kind and explain anything that might be confusing for a new coder.\n",
    "\"\"\"\n",
    "    elif mode == \"strict\":\n",
    "        instructions = \"\"\"\n",
    "You're a senior software engineer performing a detailed and critical code review.\n",
    "\n",
    "Be blunt. Use markdown headers:\n",
    "\n",
    "## Code Summary\n",
    "## Technical Issues\n",
    "## Required Changes\n",
    "\n",
    "Focus on performance, logic errors, maintainability, and standards compliance.\n",
    "\"\"\"\n",
    "    else:\n",
    "        raise ValueError(f\"Unknown review mode: {mode}\")\n",
    "\n",
    "    prompt = f\"{instructions.strip()}\\n\\n```python\\n{code.strip()}\\n```\"\n",
    "    return prompt\n"
   ]
  },
  {
   "cell_type": "code",
   "execution_count": 5,
   "id": "6f4e3ae4-9be2-4cf9-b6ea-c9740736f5bc",
   "metadata": {},
   "outputs": [],
   "source": [
    "def user_input():\n",
    "    \"\"\"Collects user input for code review — filepath, mode, and save toggle.\"\"\"\n",
    "    filepath = input(\"Enter the path to the code file (e.g., sample scripts/test1.py): \").strip()\n",
    "    \n",
    "    mode = input(\"Choose review mode [default / beginner_friendly / strict] (default): \").strip()\n",
    "    if mode == \"\":\n",
    "        mode = \"default\"\n",
    "    \n",
    "    save_response = input(\"Save review to markdown file? [y/N]: \").strip().lower()\n",
    "    save = save_response == \"y\"\n",
    "    \n",
    "    return filepath, mode, save"
   ]
  },
  {
   "cell_type": "code",
   "execution_count": 6,
   "id": "9ab4d984-f8d1-40de-acdc-81c43a0ae3cb",
   "metadata": {},
   "outputs": [],
   "source": [
    "def save_review(text, path):\n",
    "    \"\"\"Saves the review text to the specified markdown or text file.\"\"\"\n",
    "    try:\n",
    "        os.makedirs(os.path.dirname(path), exist_ok=True)\n",
    "        with open(path, 'w', encoding='utf-8') as f:\n",
    "            f.write(text)\n",
    "        print(f\"✅ Review saved to: {path}\")\n",
    "    except Exception as e:\n",
    "        print(f\"❌ Failed to save review: {e}\")"
   ]
  },
  {
   "cell_type": "code",
   "execution_count": 7,
   "id": "785791a3-8f6f-4393-a341-e4bcb52af37d",
   "metadata": {},
   "outputs": [],
   "source": [
    "def review_code(filepath, mode=\"default\", save=False):\n",
    "    \"\"\"Runs the full review pipeline for a given code file.\"\"\"\n",
    "    print(\"🔍 Loading code...\")\n",
    "    code = load_code(filepath)\n",
    "    if not code:\n",
    "        return \"❌ No code loaded. Exiting.\"\n",
    "    \n",
    "    print(\"🧠 Building prompt...\")\n",
    "    prompt = build_prompt(code, mode)\n",
    "    \n",
    "    print(\"🤖 Sending to DeepSeek-Coder...\")\n",
    "    review = call_model(prompt, model=\"deepseek-coder\")\n",
    "    \n",
    "    if save:\n",
    "        filename = os.path.basename(filepath).replace(\".py\", \"\").replace(\".txt\", \"\")\n",
    "        output_path = f\"reviews/{filename}_review.md\"\n",
    "        save_review(review, output_path)\n",
    "    \n",
    "    return review\n"
   ]
  },
  {
   "cell_type": "code",
   "execution_count": 11,
   "id": "3bef16f6-acad-4cda-bd2b-894750f0cc35",
   "metadata": {},
   "outputs": [
    {
     "name": "stdin",
     "output_type": "stream",
     "text": [
      "Enter the path to the code file (e.g., sample scripts/test1.py):  sample scripts/test3.py\n",
      "Choose review mode [default / beginner_friendly / strict] (default):  strict\n",
      "Save review to markdown file? [y/N]:  y\n"
     ]
    },
    {
     "name": "stdout",
     "output_type": "stream",
     "text": [
      "🔍 Loading code...\n",
      "🧠 Building prompt...\n",
      "🤖 Sending to DeepSeek-Coder...\n",
      "✅ Review saved to: reviews/test3_review.md\n",
      "\n",
      "📝 Review Output:\n",
      "\n",
      "## Code Summary  \n",
      "The given Python code counts the number of word in an input text. However, it has few issues which need to be addressed before proceeding further as below - \n",
      "1) The variable `count` is initialized with zero but used for incrementing a count only once (it's not being re-initialized at every iteration).  2) This approach of splitting the string into an array and then counting elements in that list does add some overhead. It would be better to use builtin functions which are optimized already like `len()` or 'split'.\n",
      "3) No specific requirements about performance, logic errors etc., but from a maintainability point-of view it is considered good practice for the function/method name should reflect its purpose and functionality if any error occurs. In this case \"count_words\" might not be precise enough to clearly indicate what words are counted or why they're being done so in context of code reviewing, but we can rename as per best practices ie., `get_word_count`\n",
      "  \n",
      "## Technical Issues \n",
      "1) The function doesn’t handle leading/trailing spaces. If there is a word with space at the start or end it would count them twice (one for each). To fix this we should trim any trailing and starting white-spaces using `strip()` method in python but that will remove all other whitespaces including tabs, newlines etc., which might not be desired. \n",
      "2) The function does't handle special characters or punctuation if present at the end of a word (for instance \"-\" character). To tackle this problem would require more sophisticated string processing methods and handling such cases in specific way according to requirements may vary from one case that should count towards another, like ignoring these types.\n",
      "3) No explicit error checking is performed for out-of-memory errors or incorrect input type validation checks have been omitted but could be added based on the needs of our code reviewing team and it might affect performance if not handled properly when unexpected inputs are provided to this function/method in production level application codes, which will need proper handling according requirements.\n",
      "  \n",
      "## Required Changes \n",
      "1) To handle leading or trailing spaces: `words = text.strip().split()` This removes all space characters from both ends of the string and then splits them into a list with words separated by whitespace (if any). If you only want to count alphabetic word, remove .lower(), for example if we are counting lowercase or upper case letters separately: `words = [word.strip().lower() for word in text]`\n",
      "2) To handle special characters at end of a word - add regular expression matching here according the requirement like '[a-zA-Z0-9\\s][^a-zA-Z0-9\\s]*$' if you want to count words separately.  This would work for single and multiple spaces between two different types (eg: \"one\" , \"-two\", etc).\n",
      "3) Implement proper error checking in production code, e.g., check whether text is not `None` before proceeding with the operation or verify it's an instance of string type using Python’s built-in data structure like a list and if necessary handle different types/data cases accordingly as per requirement requirements provided by your team members for this stage in reviewing process to ensure code quality.\n",
      "\n"
     ]
    }
   ],
   "source": [
    "filepath, mode, save = user_input()\n",
    "result = review_code(filepath, mode, save)\n",
    "print(\"\\n📝 Review Output:\\n\")\n",
    "print(result)"
   ]
  },
  {
   "cell_type": "code",
   "execution_count": null,
   "id": "ef943966-db22-441c-ac8c-847dbdb634d3",
   "metadata": {},
   "outputs": [],
   "source": []
  }
 ],
 "metadata": {
  "kernelspec": {
   "display_name": "Python 3 (ipykernel)",
   "language": "python",
   "name": "python3"
  },
  "language_info": {
   "codemirror_mode": {
    "name": "ipython",
    "version": 3
   },
   "file_extension": ".py",
   "mimetype": "text/x-python",
   "name": "python",
   "nbconvert_exporter": "python",
   "pygments_lexer": "ipython3",
   "version": "3.8.5"
  }
 },
 "nbformat": 4,
 "nbformat_minor": 5
}
